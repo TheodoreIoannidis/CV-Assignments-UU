{
 "cells": [
  {
   "cell_type": "code",
   "execution_count": 5,
   "metadata": {},
   "outputs": [],
   "source": [
    "import cv2 as cv\n",
    "import numpy as np\n",
    "import os"
   ]
  },
  {
   "cell_type": "code",
   "execution_count": 12,
   "metadata": {},
   "outputs": [],
   "source": [
    "  \n",
    "def click_corners(img, objpoints, imgpoints, objp, window):\n",
    "\n",
    "    corners = []\n",
    "    # function to display the coordinates of \n",
    "    # of the points clicked on the image  \n",
    "    def click_event(event, x, y, flags, param): \n",
    "        \n",
    "        corners, img, window = param\n",
    "        # checking for left mouse clicks \n",
    "        if event == cv.EVENT_LBUTTONDOWN: \n",
    "                \n",
    "            corners.append([x, y]) \n",
    "    \n",
    "            # displaying the coordinates \n",
    "            # on the image window \n",
    "            font = cv.FONT_HERSHEY_SIMPLEX \n",
    "            cv.putText(img, 'X', (x,y), font, \n",
    "                        1, (255, 0, 0), 2) \n",
    "            cv.imshow(window, img)\n",
    " \n",
    "    cv.namedWindow(window, cv.WINDOW_NORMAL)\n",
    "    cv.imshow(window, img) \n",
    "    cv.setMouseCallback(window, click_event, [corners, img, window]) \n",
    "    # wait for a key to be pressed to exit \n",
    "    print(\"Click on the chessboard corners in order, then press any key.\")\n",
    "    cv.waitKey(0) \n",
    "    \n",
    "    corners = np.array(corners, dtype=np.float32).reshape(-1, 2)  # Convert list to NumPy array\n",
    "    objpoints.append(objp)\n",
    "    imgpoints.append(corners)\n",
    "\n",
    "    cv.destroyWindow(window)\n",
    "\n"
   ]
  },
  {
   "cell_type": "code",
   "execution_count": 22,
   "metadata": {},
   "outputs": [],
   "source": [
    "def find_auto(img, gray, objpoints, imgpoints, objp, window):\n",
    "\n",
    "    # Find chess board corners\n",
    "    ret, corners = cv.findChessboardCorners(gray, (7,6), None)\n",
    "\n",
    "    if ret:        \n",
    "        objpoints.append(objp)\n",
    "        imgpoints.append(corners)\n",
    "        \n",
    "        # display the corners\n",
    "        cv.drawChessboardCorners(img, (7,6), corners, True)\n",
    "        cv.imshow(window, img)\n",
    "        cv.waitKey(0)\n",
    "    else:\n",
    "        print(f'Pattern not found in {window}')\n"
   ]
  },
  {
   "cell_type": "code",
   "execution_count": 23,
   "metadata": {},
   "outputs": [],
   "source": [
    "def run(auto= False, data= './data' ):\n",
    "\n",
    "    images= os.listdir(data) # get list of image filenames\n",
    "\n",
    "    objp = np.zeros((7*6,3), np.float32)\n",
    "    objp[:,:2] = np.mgrid[0:7,0:6].T.reshape(-1,2)\n",
    "    objp= objp*16.5  # we measured the side of each square to be 16,5mm  \n",
    "\n",
    "    # Lists to store object and image points from all images.\n",
    "    objpoints = [] # 3d point in real world space\n",
    "    imgpoints = [] # 2d points in image plane.\n",
    "\n",
    "    for fname in images:\n",
    "\n",
    "        img = cv.imread(f'{data}/{fname}')\n",
    "        gray = cv.cvtColor(img, cv.COLOR_BGR2GRAY)\n",
    "        window = f'image_{fname}'\n",
    "\n",
    "        if auto:\n",
    "            # Find the chess board corners\n",
    "            find_auto(img, gray, objpoints, imgpoints, objp, window)\n",
    "            # If found, add object points, image points (after refining them)\n",
    "        else:\n",
    "            click_corners(img, objpoints, imgpoints, objp, window)\n",
    "            \n",
    "    cv.destroyAllWindows()\n",
    "    # print(f\"Number of images: {len(imgpoints)}\")\n",
    "    \n",
    "    ret, mtx, dist, rvecs, tvecs = cv.calibrateCamera(objpoints, imgpoints, gray.shape[::-1], None, None)\n",
    "\n",
    "    return mtx, dist, rvecs, tvecs"
   ]
  },
  {
   "cell_type": "code",
   "execution_count": 24,
   "metadata": {},
   "outputs": [
    {
     "name": "stdout",
     "output_type": "stream",
     "text": [
      "Pattern not found in image_WIN_20250213_22_46_20_Pro.jpg\n",
      "Pattern not found in image_WIN_20250213_22_46_26_Pro.jpg\n",
      "Pattern not found in image_WIN_20250213_22_46_33_Pro.jpg\n",
      "Pattern not found in image_WIN_20250213_22_46_37_Pro.jpg\n",
      "Pattern not found in image_WIN_20250213_22_46_40_Pro.jpg\n",
      "Pattern not found in image_WIN_20250213_22_48_00_Pro.jpg\n",
      "Pattern not found in image_WIN_20250213_22_48_03_Pro.jpg\n",
      "Pattern not found in image_WIN_20250213_22_48_08_Pro.jpg\n",
      "Pattern not found in image_WIN_20250213_22_48_12_Pro.jpg\n",
      "Pattern not found in image_WIN_20250213_22_48_14_Pro.jpg\n",
      "Pattern not found in image_WIN_20250213_22_48_15_Pro.jpg\n",
      "Pattern not found in image_WIN_20250213_22_48_17_Pro.jpg\n",
      "Pattern not found in image_WIN_20250213_22_48_24_Pro.jpg\n",
      "Pattern not found in image_WIN_20250213_22_48_40_Pro.jpg\n",
      "Pattern not found in image_WIN_20250213_22_48_43_Pro.jpg\n",
      "Pattern not found in image_WIN_20250213_22_48_45_Pro.jpg\n",
      "Pattern not found in image_WIN_20250213_22_48_47_Pro.jpg\n",
      "Pattern not found in image_WIN_20250213_22_49_05_Pro.jpg\n"
     ]
    }
   ],
   "source": [
    "mtx, dist, rvecs, tvecs = run(auto=True)\n"
   ]
  },
  {
   "cell_type": "code",
   "execution_count": 25,
   "metadata": {},
   "outputs": [
    {
     "data": {
      "text/plain": [
       "array([[954.51565084,   0.        , 650.39610444],\n",
       "       [  0.        , 954.36893219, 370.86552013],\n",
       "       [  0.        ,   0.        ,   1.        ]])"
      ]
     },
     "execution_count": 25,
     "metadata": {},
     "output_type": "execute_result"
    }
   ],
   "source": [
    "mtx"
   ]
  },
  {
   "cell_type": "code",
   "execution_count": null,
   "metadata": {},
   "outputs": [],
   "source": []
  }
 ],
 "metadata": {
  "kernelspec": {
   "display_name": "Python 3",
   "language": "python",
   "name": "python3"
  },
  "language_info": {
   "codemirror_mode": {
    "name": "ipython",
    "version": 3
   },
   "file_extension": ".py",
   "mimetype": "text/x-python",
   "name": "python",
   "nbconvert_exporter": "python",
   "pygments_lexer": "ipython3",
   "version": "3.9.13"
  }
 },
 "nbformat": 4,
 "nbformat_minor": 2
}
