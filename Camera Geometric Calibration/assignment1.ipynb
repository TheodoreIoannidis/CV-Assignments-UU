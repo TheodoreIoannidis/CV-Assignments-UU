{
 "cells": [
  {
   "cell_type": "code",
   "execution_count": 2,
   "metadata": {},
   "outputs": [],
   "source": [
    "import cv2 as cv\n",
    "import numpy as np\n",
    "import os"
   ]
  },
  {
   "cell_type": "code",
   "execution_count": 3,
   "metadata": {},
   "outputs": [],
   "source": [
    "# function to display the coordinates of \n",
    "# of the points clicked on the image  \n",
    "def click_event(event, x, y, flags, param): \n",
    "    \n",
    "    corners, img, window = param\n",
    "    # checking for left mouse clicks \n",
    "    if event == cv.EVENT_LBUTTONDOWN: \n",
    "            \n",
    "        corners.append([x, y]) \n",
    "  \n",
    "        # displaying the coordinates \n",
    "        # on the image window \n",
    "        font = cv.FONT_HERSHEY_SIMPLEX \n",
    "        cv.putText(img, 'X', (x,y), font, \n",
    "                    1, (255, 0, 0), 2) \n",
    "        cv.imshow(window, img)\n",
    "  \n"
   ]
  },
  {
   "cell_type": "code",
   "execution_count": null,
   "metadata": {},
   "outputs": [],
   "source": [
    "def run(auto= False, data= './data' ):\n",
    "\n",
    "    images=  os.listdir(data) # get list of image filenames\n",
    "\n",
    "    objp = np.zeros((7*6,3), np.float32)\n",
    "    objp[:,:2] = np.mgrid[0:7,0:6].T.reshape(-1,2)\n",
    "    objp= objp*16.5  # we measured the side of each square to be 16,5mm  \n",
    "\n",
    "    # Lists to store object and image points from all images.\n",
    "    objpoints = [] # 3d point in real world space\n",
    "    imgpoints = [] # 2d points in image plane.\n",
    "\n",
    "    criteria = (cv.TERM_CRITERIA_EPS + cv.TERM_CRITERIA_MAX_ITER, 30, 0.001)\n",
    "\n",
    "    for fname in images:\n",
    "\n",
    "        img = cv.imread(f'{data}/{fname}')\n",
    "        gray = cv.cvtColor(img, cv.COLOR_BGR2GRAY)\n",
    "        corners = []\n",
    "        window = f'image_{fname}'\n",
    "\n",
    "        if auto:\n",
    "        # Find the chess board corners\n",
    "            ret, corners = cv.findChessboardCorners(gray, (7,6), None)\n",
    "            if ret:        \n",
    "                objpoints.append(objp)\n",
    "                imgpoints.append(corners)\n",
    "                \n",
    "                # Draw and display the corners\n",
    "                cv.drawChessboardCorners(img, (7,6), corners, True)\n",
    "                cv.imshow(window, img)\n",
    "                cv.waitKey(100)\n",
    "            else:\n",
    "                print(f'Pattern not found in {fname}')\n",
    "\n",
    "            # If found, add object points, image points (after refining them)\n",
    "        else:\n",
    "            cv.namedWindow(window, cv.WINDOW_NORMAL)\n",
    "            cv.imshow(window, img) \n",
    "            cv.setMouseCallback(window, click_event, [corners, img, window]) \n",
    "            # wait for a key to be pressed to exit \n",
    "            print(\"Click on the chessboard corners in order, then press any key.\")\n",
    "            cv.waitKey(0) \n",
    "            \n",
    "            corners = np.array(corners, dtype=np.float32).reshape(-1, 2)  # Convert list to NumPy array\n",
    "            objpoints.append(objp)\n",
    "            imgpoints.append(corners)\n",
    "\n",
    "        cv.destroyWindow(window)\n",
    "            \n",
    "    cv.destroyAllWindows()\n",
    "    # print(f\"Number of images: {len(imgpoints)}\")\n",
    "    # print(f\"Shape of first image points: {imgpoints[0].shape if imgpoints else 'Empty'}\")\n",
    "    # print(f\"Data type: {imgpoints[0].dtype if imgpoints else 'Empty'}\")\n",
    "    ret, mtx, dist, rvecs, tvecs = cv.calibrateCamera(objpoints, imgpoints, gray.shape, None, None)\n",
    "\n",
    "    return mtx, dist, rvecs, tvecs"
   ]
  },
  {
   "cell_type": "code",
   "execution_count": 5,
   "metadata": {},
   "outputs": [
    {
     "name": "stdout",
     "output_type": "stream",
     "text": [
      "Click on the chessboard corners in order, then press any key.\n",
      "Number of images: 1\n",
      "Shape of first image points: (42, 2)\n",
      "Data type: float32\n"
     ]
    },
    {
     "data": {
      "text/plain": [
       "(array([[2.50047866e+03, 0.00000000e+00, 4.58789512e+02],\n",
       "        [0.00000000e+00, 4.51055431e+03, 7.16299392e+02],\n",
       "        [0.00000000e+00, 0.00000000e+00, 1.00000000e+00]]),\n",
       " array([[ 5.93819830e+00, -9.33960469e+01,  2.10627685e-01,\n",
       "         -1.92124891e-01,  9.48857175e+02]]),\n",
       " (array([[ 1.50013309],\n",
       "         [ 1.94947383],\n",
       "         [-1.03946241]]),),\n",
       " (array([[  26.66310041],\n",
       "         [-117.44283412],\n",
       "         [ 857.99021706]]),))"
      ]
     },
     "execution_count": 5,
     "metadata": {},
     "output_type": "execute_result"
    }
   ],
   "source": [
    "run()\n"
   ]
  },
  {
   "cell_type": "code",
   "execution_count": 9,
   "metadata": {},
   "outputs": [
    {
     "data": {
      "text/plain": [
       "array([[2.82877149e+03, 0.00000000e+00, 4.23686216e+02],\n",
       "       [0.00000000e+00, 3.08417159e+03, 5.66067314e+02],\n",
       "       [0.00000000e+00, 0.00000000e+00, 1.00000000e+00]])"
      ]
     },
     "execution_count": 9,
     "metadata": {},
     "output_type": "execute_result"
    }
   ],
   "source": [
    "mtx"
   ]
  },
  {
   "cell_type": "code",
   "execution_count": null,
   "metadata": {},
   "outputs": [],
   "source": []
  }
 ],
 "metadata": {
  "kernelspec": {
   "display_name": "Python 3",
   "language": "python",
   "name": "python3"
  },
  "language_info": {
   "codemirror_mode": {
    "name": "ipython",
    "version": 3
   },
   "file_extension": ".py",
   "mimetype": "text/x-python",
   "name": "python",
   "nbconvert_exporter": "python",
   "pygments_lexer": "ipython3",
   "version": "3.9.13"
  }
 },
 "nbformat": 4,
 "nbformat_minor": 2
}
