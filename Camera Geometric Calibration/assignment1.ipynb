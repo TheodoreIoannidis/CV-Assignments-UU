{
 "cells": [
  {
   "cell_type": "code",
   "execution_count": 1,
   "metadata": {},
   "outputs": [],
   "source": [
    "import cv2 as cv\n",
    "import numpy as np"
   ]
  },
  {
   "cell_type": "code",
   "execution_count": 8,
   "metadata": {},
   "outputs": [],
   "source": [
    "# function to display the coordinates of \n",
    "# of the points clicked on the image  \n",
    "def click_event(event, x, y, flags, corners): \n",
    "    \n",
    "    # checking for left mouse clicks \n",
    "    if event == cv.EVENT_LBUTTONDOWN: \n",
    "            \n",
    "        corners= np.vstack((corners, [x, y])) \n",
    "  \n",
    "        # displaying the coordinates \n",
    "        # on the image window \n",
    "        font = cv.FONT_HERSHEY_SIMPLEX \n",
    "        cv.putText(img, 'x', (x,y), font, \n",
    "                    1, (255, 0, 0), 2) \n",
    "        cv.imshow('image', img) \n",
    "  \n"
   ]
  },
  {
   "cell_type": "code",
   "execution_count": null,
   "metadata": {},
   "outputs": [],
   "source": [
    "import os\n",
    "\n",
    "def run(auto= False, data= './data' ):\n",
    "\n",
    "    images= os.listdir(data) # get list of image filenames\n",
    "\n",
    "    objp = np.zeros((7*6,3), np.float32)\n",
    "    objp[:,:2] = np.mgrid[0:7,0:6].T.reshape(-1,2)\n",
    "    objp= objp*16.5  # we measured the side of each square to be 16,5mm  \n",
    "\n",
    "    # Lists to store object and image points from all images.\n",
    "    objpoints = [] # 3d point in real world space\n",
    "    imgpoints = [] # 2d points in image plane.\n",
    "\n",
    "    criteria = (cv.TERM_CRITERIA_EPS + cv.TERM_CRITERIA_MAX_ITER, 30, 0.001)\n",
    "\n",
    "    for fname in images:\n",
    "\n",
    "        img = cv.imread(f'{data}/{fname}')\n",
    "        gray = cv.cvtColor(img, cv.COLOR_BGR2GRAY)\n",
    "        \n",
    "        corners = np.empty((1,2)) # init corner \n",
    "    \n",
    "        if auto == True:\n",
    "        # Find the chess board corners\n",
    "            ret, corners = cv.findChessboardCorners(gray, (7,6), None)\n",
    "            # If found, add object points, image points (after refining them)\n",
    "        else:\n",
    "            cv.namedWindow(f'image_{fname}', cv.WINDOW_NORMAL)\n",
    "            cv.imshow(f'image_{fname}', img) \n",
    "            cv.setMouseCallback(f'image_{fname}', click_event, corners) \n",
    "            # wait for a key to be pressed to exit \n",
    "            cv.waitKey(0) \n",
    "        \n",
    "        objpoints.append(objp)\n",
    "        imgpoints.append(corners)\n",
    "        \n",
    "        # Draw and display the corners\n",
    "        cv.drawChessboardCorners(img, (7,6), corners, ret)\n",
    "        cv.imshow(f'image_{fname}', img)\n",
    "        cv.waitKey(100)\n",
    "\n",
    "    cv.destroyAllWindows()\n",
    "\n",
    "    return objpoints, imgpoints"
   ]
  },
  {
   "cell_type": "code",
   "execution_count": null,
   "metadata": {},
   "outputs": [],
   "source": [
    "objpoints, imgpoints = run()\n",
    "ret, mtx, dist, rvecs, tvecs = cv.calibrateCamera(objpoints, imgpoints, gray.shape, None, None)\n"
   ]
  }
 ],
 "metadata": {
  "kernelspec": {
   "display_name": "Python 3",
   "language": "python",
   "name": "python3"
  },
  "language_info": {
   "codemirror_mode": {
    "name": "ipython",
    "version": 3
   },
   "file_extension": ".py",
   "mimetype": "text/x-python",
   "name": "python",
   "nbconvert_exporter": "python",
   "pygments_lexer": "ipython3",
   "version": "3.9.13"
  }
 },
 "nbformat": 4,
 "nbformat_minor": 2
}
