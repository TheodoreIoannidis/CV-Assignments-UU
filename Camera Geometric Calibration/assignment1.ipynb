{
 "cells": [
  {
   "cell_type": "code",
   "execution_count": 2,
   "metadata": {},
   "outputs": [],
   "source": [
    "import cv2 as cv\n",
    "import numpy as np\n",
    "import os"
   ]
  },
  {
   "cell_type": "code",
   "execution_count": null,
   "metadata": {},
   "outputs": [],
   "source": [
    "# function to display the coordinates of \n",
    "# of the points clicked on the image  \n",
    "def click_event(event, x, y, flags, corners): \n",
    "    \n",
    "    # checking for left mouse clicks \n",
    "    if event == cv.EVENT_LBUTTONDOWN: \n",
    "            \n",
    "        corners= np.vstack((corners, [x, y])) \n",
    "  \n",
    "        # displaying the coordinates \n",
    "        # on the image window \n",
    "        font = cv.FONT_HERSHEY_SIMPLEX \n",
    "        cv.putText(img, 'X', (x,y), font, \n",
    "                    1, (255, 0, 0), 2) \n",
    "        cv.imshow('image', img) \n",
    "  \n"
   ]
  },
  {
   "cell_type": "code",
   "execution_count": 9,
   "metadata": {},
   "outputs": [],
   "source": [
    "\n",
    "def run(auto= False, data= './data' ):\n",
    "\n",
    "    images=  ['WIN_20250213_22_46_20_Pro.jpg', 'WIN_20250213_22_46_26_Pro.jpg', 'WIN_20250213_22_46_33_Pro.jpg']\n",
    "    # os.listdir(data) # get list of image filenames\n",
    "\n",
    "    objp = np.zeros((7*6,3), np.float32)\n",
    "    objp[:,:2] = np.mgrid[0:7,0:6].T.reshape(-1,2)\n",
    "    objp= objp*16.5  # we measured the side of each square to be 16,5mm  \n",
    "\n",
    "    # Lists to store object and image points from all images.\n",
    "    objpoints = [] # 3d point in real world space\n",
    "    imgpoints = [] # 2d points in image plane.\n",
    "\n",
    "    criteria = (cv.TERM_CRITERIA_EPS + cv.TERM_CRITERIA_MAX_ITER, 30, 0.001)\n",
    "\n",
    "    for fname in images:\n",
    "\n",
    "        img = cv.imread(f'{data}/{fname}')\n",
    "        gray = cv.cvtColor(img, cv.COLOR_BGR2GRAY)\n",
    "        \n",
    "        corners = np.empty((1,2)) # init corner \n",
    "    \n",
    "        if auto:\n",
    "        # Find the chess board corners\n",
    "            ret, corners = cv.findChessboardCorners(gray, (7,6), None)\n",
    "            if ret:        \n",
    "                objpoints.append(objp)\n",
    "                imgpoints.append(corners)\n",
    "                \n",
    "                # Draw and display the corners\n",
    "                cv.drawChessboardCorners(img, (7,6), corners, True)\n",
    "                cv.imshow(f'image_{fname}', img)\n",
    "                cv.waitKey(100)\n",
    "            else:\n",
    "                print(f'Pattern not found in {fname}')\n",
    "\n",
    "            # If found, add object points, image points (after refining them)\n",
    "        else:\n",
    "            cv.namedWindow(f'image_{fname}', cv.WINDOW_NORMAL)\n",
    "            cv.imshow(f'image_{fname}', img) \n",
    "            cv.setMouseCallback(f'image_{fname}', click_event, corners) \n",
    "            # wait for a key to be pressed to exit \n",
    "            cv.waitKey(100) \n",
    "\n",
    "            objpoints.append(objp)\n",
    "            imgpoints.append(corners.reshape(-1, 2))\n",
    "            \n",
    "    print(imgpoints)\n",
    "    # cv.destroyAllWindows()\n",
    "\n",
    "    # ret, mtx, dist, rvecs, tvecs = cv.calibrateCamera(objpoints, imgpoints, gray.shape, None, None)\n",
    "\n",
    "    # return mtx, dist, rvecs, tvecs"
   ]
  },
  {
   "cell_type": "code",
   "execution_count": null,
   "metadata": {},
   "outputs": [
    {
     "name": "stdout",
     "output_type": "stream",
     "text": [
      "[array([[1.48539706e-313, 1.11253784e-308]]), array([[1.34080873e-311, 2.08600770e-308]]), array([[1.34080876e-311, 1.11387648e-308]])]\n"
     ]
    },
    {
     "ename": "",
     "evalue": "",
     "output_type": "error",
     "traceback": [
      "\u001b[1;31mThe Kernel crashed while executing code in the current cell or a previous cell. \n",
      "\u001b[1;31mPlease review the code in the cell(s) to identify a possible cause of the failure. \n",
      "\u001b[1;31mClick <a href='https://aka.ms/vscodeJupyterKernelCrash'>here</a> for more info. \n",
      "\u001b[1;31mView Jupyter <a href='command:jupyter.viewOutput'>log</a> for further details."
     ]
    }
   ],
   "source": [
    "run()\n"
   ]
  },
  {
   "cell_type": "code",
   "execution_count": 9,
   "metadata": {},
   "outputs": [
    {
     "data": {
      "text/plain": [
       "array([[2.82877149e+03, 0.00000000e+00, 4.23686216e+02],\n",
       "       [0.00000000e+00, 3.08417159e+03, 5.66067314e+02],\n",
       "       [0.00000000e+00, 0.00000000e+00, 1.00000000e+00]])"
      ]
     },
     "execution_count": 9,
     "metadata": {},
     "output_type": "execute_result"
    }
   ],
   "source": [
    "mtx"
   ]
  },
  {
   "cell_type": "code",
   "execution_count": null,
   "metadata": {},
   "outputs": [],
   "source": []
  }
 ],
 "metadata": {
  "kernelspec": {
   "display_name": "Python 3",
   "language": "python",
   "name": "python3"
  },
  "language_info": {
   "codemirror_mode": {
    "name": "ipython",
    "version": 3
   },
   "file_extension": ".py",
   "mimetype": "text/x-python",
   "name": "python",
   "nbconvert_exporter": "python",
   "pygments_lexer": "ipython3",
   "version": "3.9.13"
  }
 },
 "nbformat": 4,
 "nbformat_minor": 2
}
